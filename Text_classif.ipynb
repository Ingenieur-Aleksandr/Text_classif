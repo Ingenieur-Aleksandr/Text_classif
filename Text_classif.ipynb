{
  "nbformat": 4,
  "nbformat_minor": 0,
  "metadata": {
    "colab": {
      "name": "Копия блокнота \"RN_dig.ipynb\"",
      "provenance": [],
      "collapsed_sections": [
        "HBLGfmB0vb3Z",
        "BINxtjjYviaS",
        "KfKjpoTLwtoA",
        "KyThIGjB-DQD",
        "6p_XImr4R8Bo"
      ],
      "toc_visible": true
    },
    "kernelspec": {
      "name": "python3",
      "display_name": "Python 3"
    },
    "language_info": {
      "name": "python"
    }
  },
  "cells": [
    {
      "cell_type": "markdown",
      "metadata": {
        "id": "xTL-_AtIu34g"
      },
      "source": [
        "# Классификация текстов Multilabel"
      ]
    },
    {
      "cell_type": "markdown",
      "metadata": {
        "id": "InoqznN1vDYL"
      },
      "source": [
        "## Загрузка данных"
      ]
    },
    {
      "cell_type": "code",
      "metadata": {
        "id": "_bqUc4AUoiDp"
      },
      "source": [
        "train = pd.read_csv('train_data.csv')\n",
        "test = pd.read_csv('test_data.csv')\n",
        "classes = pd.read_csv('classes.csv')\n",
        "sample_submission = pd.read_csv('sample_submission.csv')\n",
        "\n",
        "actual_data_1 = pd.read_csv('actual_data_1.csv')"
      ],
      "execution_count": null,
      "outputs": []
    },
    {
      "cell_type": "markdown",
      "metadata": {
        "id": "HBLGfmB0vb3Z"
      },
      "source": [
        "## Импорт библиотек"
      ]
    },
    {
      "cell_type": "code",
      "metadata": {
        "id": "qzPZ8atuoa6X"
      },
      "source": [
        "import pandas as pd\n",
        "import numpy as np\n",
        "from sklearn.metrics import f1_score\n",
        "from sklearn.preprocessing import MultiLabelBinarizer\n",
        "from sklearn.metrics import recall_score, precision_score\n",
        "import io"
      ],
      "execution_count": null,
      "outputs": []
    },
    {
      "cell_type": "code",
      "metadata": {
        "id": "AZuC6hYCwJyh"
      },
      "source": [
        "!pip install catboost"
      ],
      "execution_count": null,
      "outputs": []
    },
    {
      "cell_type": "code",
      "metadata": {
        "colab": {
          "base_uri": "https://localhost:8080/"
        },
        "id": "Vz0blZBpIxuP",
        "outputId": "8e456b71-a6f1-4d26-d9f3-fdfcc4583cc2"
      },
      "source": [
        "!pip install pymorphy2"
      ],
      "execution_count": null,
      "outputs": [
        {
          "output_type": "stream",
          "text": [
            "Installing collected packages: pymorphy2-dicts-ru, dawg-python, pymorphy2\n",
            "Successfully installed dawg-python-0.7.2 pymorphy2-0.9.1 pymorphy2-dicts-ru-2.4.417127.4579844\n"
          ],
          "name": "stdout"
        }
      ]
    },
    {
      "cell_type": "code",
      "metadata": {
        "id": "0oHXOct5vof5"
      },
      "source": [
        "from sklearn.feature_extraction.text import TfidfVectorizer\n",
        "from catboost import CatBoostClassifier\n",
        "from xgboost import XGBClassifier\n",
        "from lightgbm import LGBMClassifier\n",
        "from sklearn.multiclass import OneVsRestClassifier, OneVsOneClassifier\n",
        "from sklearn.model_selection import train_test_split\n",
        "from matplotlib import pyplot as plt\n",
        "\n",
        "from sklearn.multioutput import MultiOutputClassifier\n",
        "from sklearn.metrics import f1_score\n",
        "from sklearn.pipeline import Pipeline\n",
        "from sklearn.model_selection import cross_val_score"
      ],
      "execution_count": null,
      "outputs": []
    },
    {
      "cell_type": "code",
      "metadata": {
        "id": "_CyJ3pcXhvYy"
      },
      "source": [
        "!pip install scikit-optimize\n",
        "from skopt import BayesSearchCV\n",
        "from skopt.space import Real, Categorical, Integer"
      ],
      "execution_count": null,
      "outputs": []
    },
    {
      "cell_type": "markdown",
      "metadata": {
        "id": "qpWUMqSXwUTX"
      },
      "source": [
        ""
      ]
    },
    {
      "cell_type": "markdown",
      "metadata": {
        "id": "KyThIGjB-DQD"
      },
      "source": [
        "## Векторизация слов"
      ]
    },
    {
      "cell_type": "code",
      "metadata": {
        "id": "-KGkcNrB-N_N"
      },
      "source": [
        "from nltk.stem.snowball import SnowballStemmer\n",
        "from nltk.tokenize import TweetTokenizer"
      ],
      "execution_count": null,
      "outputs": []
    },
    {
      "cell_type": "code",
      "metadata": {
        "id": "eXK-14WQ-FnH"
      },
      "source": [
        "stemmer = SnowballStemmer('russian')\n",
        "tokenizer = TweetTokenizer()\n",
        "\n",
        "tfidf = TfidfVectorizer(max_df=0.3,\n",
        "                        min_df=3,\n",
        "                       tokenizer=lambda text: stemm_tokenizer(text, stemmer, tokenizer).split())\n",
        "\n",
        "\n",
        "tfidf.fit(data.text.dropna())"
      ],
      "execution_count": null,
      "outputs": []
    },
    {
      "cell_type": "markdown",
      "metadata": {
        "id": "4kKcZOvSR_zf"
      },
      "source": [
        "### Нужный блок"
      ]
    },
    {
      "cell_type": "code",
      "metadata": {
        "id": "UqRXJu6jPlNI"
      },
      "source": [
        "actual_data_preproc['Target'] = actual_data_preproc['0'] + actual_data_preproc['1'] + actual_data_preproc['2'] + actual_data_preproc['3'] + actual_data_preproc['4']"
      ],
      "execution_count": null,
      "outputs": []
    },
    {
      "cell_type": "code",
      "metadata": {
        "id": "FVmzh3jzTPMx"
      },
      "source": [
        "vectorizer = TfidfVectorizer()\n",
        "\n",
        "vectorizer.fit(actual_data_preproc['Документ'].values)"
      ],
      "execution_count": null,
      "outputs": []
    },
    {
      "cell_type": "code",
      "metadata": {
        "id": "t_WzU4P-T76p"
      },
      "source": [
        "to_vec = lambda x,  max_: [1 if i in x else 0 for i in range(max_)]"
      ],
      "execution_count": null,
      "outputs": []
    },
    {
      "cell_type": "code",
      "metadata": {
        "id": "xxcLQWzNix2O"
      },
      "source": [
        "classes_obj = np.array([to_vec(actual_data_preproc.dropna()['0'].values[i], 195) for i in range(len(actual_data_preproc))])\n",
        "classes_func = np.array([to_vec(actual_data_preproc.dropna()['1'].values[i], 193) for i in range(len(actual_data_preproc))])\n",
        "classes_proc = np.array([to_vec(actual_data_preproc.dropna()['2'].values[i], 193) for i in range(len(actual_data_preproc))])\n",
        "classes_lim = np.array([to_vec(actual_data_preproc.dropna()['3'].values[i], 193) for i in range(len(actual_data_preproc))])\n",
        "classes_struct = np.array([to_vec(actual_data_preproc.dropna()['4'].values[i], 193) for i in range(len(actual_data_preproc))])"
      ],
      "execution_count": null,
      "outputs": []
    },
    {
      "cell_type": "code",
      "metadata": {
        "id": "Vw6eEZwA2iCM"
      },
      "source": [
        "from preprocessing import preprocess\n",
        "\n",
        "def form_vector(vocab,x):\n",
        "    \n",
        "    ans = np.zeros(len(vocab))\n",
        "    m = -1\n",
        "    for i,h in enumerate(vocab):\n",
        "        if h == x:\n",
        "            m = i\n",
        "            break\n",
        "    if m>=0:\n",
        "        ans[m] = 1\n",
        "    return ans\n",
        "\n",
        "def one_hot(vocab, X):\n",
        "    '''\n",
        "    Returns One-Hot-encoded sequence for class-label\n",
        "\n",
        "    Parameters:\n",
        "    -----------\n",
        "    vocab: dict\n",
        "        Dictionary with structure {num_key: list_of_objects} \n",
        "    x: numpy.array()\n",
        "        Numpy.array() with shape (-1, 1) with lemmatized values\n",
        "\n",
        "    Returns:\n",
        "    -------\n",
        "    vecs: List\n",
        "        List of one-hot vectors\n",
        "    '''\n",
        "    vecs = []\n",
        "    for x in X:\n",
        "        vecs.append(form_vector(vocab,x).reshape(-1,1))\n",
        "    return vecs\n",
        "\n",
        "f = lambda x: \" \".join(x) + \" \"\n",
        "\n",
        "vocab = pd.Series(list(set(actual_data_preproc.Раздел)))\n",
        "vocab = preprocess(vocab)\n",
        "for i in vocab:\n",
        "  print(i)\n",
        "\n",
        "vocab = [[f(x)] for x in vocab]\n",
        "n = actual_data_preproc.Раздел.apply(lemmatize)\n",
        "\n",
        "razdel = one_hot(vocab, np.array(n).reshape(-1,1))\n",
        "OH = np.concatenate(razdel,axis = 1)"
      ],
      "execution_count": null,
      "outputs": []
    },
    {
      "cell_type": "markdown",
      "metadata": {
        "id": "7npC1j57i4Rg"
      },
      "source": [
        "## Обучение модели"
      ]
    },
    {
      "cell_type": "markdown",
      "metadata": {
        "id": "Eksk_-t4-F0a"
      },
      "source": [
        "### Обучение obj"
      ]
    },
    {
      "cell_type": "code",
      "metadata": {
        "id": "LRS5Nv-Yl0h0"
      },
      "source": [
        "X = actual_data_preproc['Документ'].values\n",
        "Y = classes_obj"
      ],
      "execution_count": null,
      "outputs": []
    },
    {
      "cell_type": "code",
      "metadata": {
        "id": "QN_Xl6nuWR7B"
      },
      "source": [
        "pipe = OneVsRestClassifier(LGBMClassifier())\n",
        "\n",
        "model_obj = BayesSearchCV(\n",
        "  pipe,\n",
        "  {\n",
        "      'estimator__Bosting_type': Categorical(['gbdt', 'dart', 'goss']),\n",
        "      'estimator__num_leaves': Integer(21, 51),\n",
        "      'estimator__max_depth': Integer(2, 10),\n",
        "      'estimator__learning_rate': Real(1e-03, 1e-01, prior = 'log-uniform'),\n",
        "      'estimator__class_weight': Categorical([None, 'balanced']),\n",
        "      'estimator__reg_alpha': Real(1e-05, 2, prior = 'log-uniform'),\n",
        "      'estimator__reg_lambda': Real(1e-05, 2, prior = 'log-uniform'),\n",
        "      'estimator__min_split_gain ': Real(0, 1),\n",
        "      'estimator__min_child_weight': Real(1e-05, 1e-01),\n",
        "      'estimator__min_child_samples ': Integer(5, 30)\n",
        "  },\n",
        "  optimizer_kwargs = None,\n",
        "  n_iter=25,\n",
        "  scoring = 'f1_micro',\n",
        "  cv = 5\n",
        ")"
      ],
      "execution_count": null,
      "outputs": []
    },
    {
      "cell_type": "code",
      "metadata": {
        "id": "RQi4PLD0kRHM"
      },
      "source": [
        "model_obj.fit(vectorizer.transform(X), Y)"
      ],
      "execution_count": null,
      "outputs": []
    },
    {
      "cell_type": "code",
      "metadata": {
        "colab": {
          "base_uri": "https://localhost:8080/"
        },
        "id": "psMP6MXmkVoS",
        "outputId": "087307b9-e96c-441f-b7ae-3523b5825f54"
      },
      "source": [
        "print(\"val. score: %s\" % model_obj.best_score_)\n",
        "print(\"best parameters: %s\" % str(model_obj.best_params_))"
      ],
      "execution_count": null,
      "outputs": [
        {
          "output_type": "stream",
          "text": [
            "val. score: 0.7400443993908475\n",
            "best parameters: OrderedDict([('estimator__Bosting_type', 'dart'), ('estimator__class_weight', None), ('estimator__learning_rate', 0.040296262772471385), ('estimator__max_depth', 10), ('estimator__min_child_samples ', 21), ('estimator__min_child_weight', 1e-05), ('estimator__min_split_gain ', 1.0), ('estimator__num_leaves', 21), ('estimator__reg_alpha', 2.0), ('estimator__reg_lambda', 2.0)])\n"
          ],
          "name": "stdout"
        }
      ]
    },
    {
      "cell_type": "code",
      "metadata": {
        "id": "QOKkBWeEyB4f"
      },
      "source": [
        "clf = OneVsRestClassifier(LGBMClassifier())\n",
        "cv_res = cross_val_score(clf, vectorizer.transform(X), Y, cv = 5, scoring = 'f1_micro')"
      ],
      "execution_count": null,
      "outputs": []
    },
    {
      "cell_type": "code",
      "metadata": {
        "colab": {
          "base_uri": "https://localhost:8080/"
        },
        "id": "eelO6gNYzI4J",
        "outputId": "373a37c7-2fe5-41e2-c86e-8953d550cb7f"
      },
      "source": [
        "print(cv_res)\n",
        "print(cv_res.mean())"
      ],
      "execution_count": null,
      "outputs": [
        {
          "output_type": "stream",
          "text": [
            "[0.62285714 0.60655738 0.85158151 0.79283887 0.65365854]\n",
            "0.7054986879375622\n"
          ],
          "name": "stdout"
        }
      ]
    },
    {
      "cell_type": "markdown",
      "metadata": {
        "id": "bAamtiUT_Bph"
      },
      "source": [
        "### Обучение func"
      ]
    },
    {
      "cell_type": "code",
      "metadata": {
        "id": "U5I2qlgj_Bpj"
      },
      "source": [
        "X = actual_data_preproc['Документ'].values\n",
        "Y = classes_func"
      ],
      "execution_count": null,
      "outputs": []
    },
    {
      "cell_type": "code",
      "metadata": {
        "id": "svA2MG5g_Bpk"
      },
      "source": [
        "pipe = OneVsRestClassifier(LGBMClassifier())\n",
        "\n",
        "model_func = BayesSearchCV(\n",
        "  pipe,\n",
        "  {\n",
        "      'estimator__Bosting_type': Categorical(['gbdt', 'dart', 'goss']),\n",
        "      'estimator__num_leaves': Integer(21, 51),\n",
        "      'estimator__max_depth': Integer(2, 10),\n",
        "      'estimator__learning_rate': Real(1e-03, 1e-01, prior = 'log-uniform'),\n",
        "      'estimator__class_weight': Categorical([None, 'balanced']),\n",
        "      'estimator__reg_alpha': Real(1e-05, 2, prior = 'log-uniform'),\n",
        "      'estimator__reg_lambda': Real(1e-05, 2, prior = 'log-uniform'),\n",
        "      'estimator__min_split_gain ': Real(0, 1),\n",
        "      'estimator__min_child_weight': Real(1e-05, 1e-01),\n",
        "      'estimator__min_child_samples ': Integer(5, 30)\n",
        "  },\n",
        "  optimizer_kwargs = None,\n",
        "  n_iter=25,\n",
        "  scoring = 'f1_micro',\n",
        "  cv = 5\n",
        ")"
      ],
      "execution_count": null,
      "outputs": []
    },
    {
      "cell_type": "code",
      "metadata": {
        "id": "HvDf9sO-_Bpk"
      },
      "source": [
        "model_func.fit(vectorizer.transform(X), Y)"
      ],
      "execution_count": null,
      "outputs": []
    },
    {
      "cell_type": "code",
      "metadata": {
        "colab": {
          "base_uri": "https://localhost:8080/"
        },
        "id": "1Qtq2SP3_Bpk",
        "outputId": "c8aad1e8-44e7-4445-a047-3d66c16c7dd4"
      },
      "source": [
        "print(\"val. score: %s\" % model_func.best_score_)\n",
        "print(\"best parameters: %s\" % str(model_func.best_params_))"
      ],
      "execution_count": null,
      "outputs": [
        {
          "output_type": "stream",
          "text": [
            "val. score: 0.7706621145960036\n",
            "best parameters: OrderedDict([('estimator__Bosting_type', 'dart'), ('estimator__class_weight', None), ('estimator__learning_rate', 0.00286091922928078), ('estimator__max_depth', 3), ('estimator__min_child_samples ', 25), ('estimator__min_child_weight', 0.016309427559150363), ('estimator__min_split_gain ', 0.7537680582191356), ('estimator__num_leaves', 47), ('estimator__reg_alpha', 0.0021726168605991658), ('estimator__reg_lambda', 0.2823979958319112)])\n"
          ],
          "name": "stdout"
        }
      ]
    },
    {
      "cell_type": "code",
      "metadata": {
        "id": "0PnuGwH4_Bpl"
      },
      "source": [
        "clf = OneVsRestClassifier(LGBMClassifier())\n",
        "cv_res = cross_val_score(clf, vectorizer.transform(X), Y, cv = 5, scoring = 'f1_micro')"
      ],
      "execution_count": null,
      "outputs": []
    },
    {
      "cell_type": "code",
      "metadata": {
        "colab": {
          "base_uri": "https://localhost:8080/"
        },
        "id": "Wk1Dn8CI_Bpl",
        "outputId": "fa8945a4-2a8a-4081-a1f4-0856d6f948e6"
      },
      "source": [
        "print(cv_res)\n",
        "print(cv_res.mean())"
      ],
      "execution_count": null,
      "outputs": [
        {
          "output_type": "stream",
          "text": [
            "[0.69711538 0.79012346 0.84444444 0.77142857 0.74891775]\n",
            "0.7704059212392546\n"
          ],
          "name": "stdout"
        }
      ]
    },
    {
      "cell_type": "markdown",
      "metadata": {
        "id": "LVL6PPRk_CrV"
      },
      "source": [
        "### Обучение proc"
      ]
    },
    {
      "cell_type": "code",
      "metadata": {
        "id": "_ipdQbmL_CrW"
      },
      "source": [
        "X = actual_data_preproc['Документ'].values\n",
        "Y = classes_proc"
      ],
      "execution_count": null,
      "outputs": []
    },
    {
      "cell_type": "code",
      "metadata": {
        "id": "KTJj1mmL_CrW"
      },
      "source": [
        "pipe = OneVsRestClassifier(LGBMClassifier())\n",
        "\n",
        "model_proc = BayesSearchCV(\n",
        "  pipe,\n",
        "  {\n",
        "      'estimator__Bosting_type': Categorical(['gbdt', 'dart', 'goss']),\n",
        "      'estimator__num_leaves': Integer(21, 51),\n",
        "      'estimator__max_depth': Integer(2, 10),\n",
        "      'estimator__learning_rate': Real(1e-03, 1e-01, prior = 'log-uniform'),\n",
        "      'estimator__class_weight': Categorical([None, 'balanced']),\n",
        "      'estimator__reg_alpha': Real(1e-05, 2, prior = 'log-uniform'),\n",
        "      'estimator__reg_lambda': Real(1e-05, 2, prior = 'log-uniform'),\n",
        "      'estimator__min_split_gain ': Real(0, 1),\n",
        "      'estimator__min_child_weight': Real(1e-05, 1e-01),\n",
        "      'estimator__min_child_samples ': Integer(5, 30)\n",
        "  },\n",
        "  optimizer_kwargs = None,\n",
        "  n_iter=25,\n",
        "  scoring = 'f1_micro',\n",
        "  cv = 5\n",
        ")"
      ],
      "execution_count": null,
      "outputs": []
    },
    {
      "cell_type": "code",
      "metadata": {
        "id": "Lajz6Zyt_CrX"
      },
      "source": [
        "model_proc.fit(vectorizer.transform(X), Y)"
      ],
      "execution_count": null,
      "outputs": []
    },
    {
      "cell_type": "code",
      "metadata": {
        "colab": {
          "base_uri": "https://localhost:8080/"
        },
        "id": "WPx3sQJy_CrX",
        "outputId": "98d8bfbd-bb85-4fca-b02c-f29110a8ad5d"
      },
      "source": [
        "print(\"val. score: %s\" % model_proc.best_score_)\n",
        "print(\"best parameters: %s\" % str(model_proc.best_params_))"
      ],
      "execution_count": null,
      "outputs": [
        {
          "output_type": "stream",
          "text": [
            "val. score: 0.6878013953682423\n",
            "best parameters: OrderedDict([('estimator__Bosting_type', 'dart'), ('estimator__class_weight', None), ('estimator__learning_rate', 0.1), ('estimator__max_depth', 7), ('estimator__min_child_samples ', 26), ('estimator__min_child_weight', 0.1), ('estimator__min_split_gain ', 1.0), ('estimator__num_leaves', 51), ('estimator__reg_alpha', 1e-05), ('estimator__reg_lambda', 1e-05)])\n"
          ],
          "name": "stdout"
        }
      ]
    },
    {
      "cell_type": "code",
      "metadata": {
        "id": "ckJTnyuL_CrX"
      },
      "source": [
        "clf = OneVsRestClassifier(LGBMClassifier())\n",
        "cv_res = cross_val_score(clf, vectorizer.transform(X), Y, cv = 5, scoring = 'f1_micro')"
      ],
      "execution_count": null,
      "outputs": []
    },
    {
      "cell_type": "code",
      "metadata": {
        "colab": {
          "base_uri": "https://localhost:8080/"
        },
        "id": "pUzfyfUS_CrY",
        "outputId": "992de4c5-8685-413f-af87-03e59dbbe85e"
      },
      "source": [
        "print(cv_res)\n",
        "print(cv_res.mean())"
      ],
      "execution_count": null,
      "outputs": [
        {
          "output_type": "stream",
          "text": [
            "[0.63937622 0.6427289  0.8        0.72627737 0.62752294]\n",
            "0.6871810862427148\n"
          ],
          "name": "stdout"
        }
      ]
    },
    {
      "cell_type": "markdown",
      "metadata": {
        "id": "TFSknrnk_DWK"
      },
      "source": [
        "### Обучение lim"
      ]
    },
    {
      "cell_type": "code",
      "metadata": {
        "id": "rS9sHLZf_DWL"
      },
      "source": [
        "X = actual_data_preproc['Документ'].values\n",
        "Y = classes_lim"
      ],
      "execution_count": null,
      "outputs": []
    },
    {
      "cell_type": "code",
      "metadata": {
        "id": "jiCqgbyU_DWL"
      },
      "source": [
        "pipe = OneVsRestClassifier(LGBMClassifier())\n",
        "\n",
        "model_lim = BayesSearchCV(\n",
        "  pipe,\n",
        "  {\n",
        "      'estimator__Bosting_type': Categorical(['gbdt', 'dart', 'goss']),\n",
        "      'estimator__num_leaves': Integer(21, 51),\n",
        "      'estimator__max_depth': Integer(2, 10),\n",
        "      'estimator__learning_rate': Real(1e-03, 1e-01, prior = 'log-uniform'),\n",
        "      'estimator__class_weight': Categorical([None, 'balanced']),\n",
        "      'estimator__reg_alpha': Real(1e-05, 2, prior = 'log-uniform'),\n",
        "      'estimator__reg_lambda': Real(1e-05, 2, prior = 'log-uniform'),\n",
        "      'estimator__min_split_gain ': Real(0, 1),\n",
        "      'estimator__min_child_weight': Real(1e-05, 1e-01),\n",
        "      'estimator__min_child_samples ': Integer(5, 30)\n",
        "  },\n",
        "  optimizer_kwargs = None,\n",
        "  n_iter=25,\n",
        "  scoring = 'f1_micro',\n",
        "  cv = 5\n",
        ")"
      ],
      "execution_count": null,
      "outputs": []
    },
    {
      "cell_type": "code",
      "metadata": {
        "id": "USbi_627_DWL"
      },
      "source": [
        "model_lim.fit(vectorizer.transform(X), Y)"
      ],
      "execution_count": null,
      "outputs": []
    },
    {
      "cell_type": "code",
      "metadata": {
        "colab": {
          "base_uri": "https://localhost:8080/"
        },
        "id": "_6vm6HSg_DWL",
        "outputId": "3a8d07fc-d654-47a9-8eb1-e2bce3f8dbfa"
      },
      "source": [
        "print(\"val. score: %s\" % model_lim.best_score_)\n",
        "print(\"best parameters: %s\" % str(model_lim.best_params_))"
      ],
      "execution_count": null,
      "outputs": [
        {
          "output_type": "stream",
          "text": [
            "val. score: 0.9208217056716477\n",
            "best parameters: OrderedDict([('estimator__Bosting_type', 'dart'), ('estimator__class_weight', None), ('estimator__learning_rate', 0.1), ('estimator__max_depth', 4), ('estimator__min_child_samples ', 6), ('estimator__min_child_weight', 1e-05), ('estimator__min_split_gain ', 0.03861981093521761), ('estimator__num_leaves', 21), ('estimator__reg_alpha', 1e-05), ('estimator__reg_lambda', 1e-05)])\n"
          ],
          "name": "stdout"
        }
      ]
    },
    {
      "cell_type": "code",
      "metadata": {
        "id": "ZuA9nX70_DWM"
      },
      "source": [
        "clf = OneVsRestClassifier(LGBMClassifier())\n",
        "cv_res = cross_val_score(clf, vectorizer.transform(X), Y, cv = 5, scoring = 'f1_micro')"
      ],
      "execution_count": null,
      "outputs": []
    },
    {
      "cell_type": "code",
      "metadata": {
        "colab": {
          "base_uri": "https://localhost:8080/"
        },
        "id": "X3GjM4jO_DWM",
        "outputId": "1d735812-0c72-457d-ca8d-7f8b654e6bc3"
      },
      "source": [
        "print(cv_res)\n",
        "print(cv_res.mean())"
      ],
      "execution_count": null,
      "outputs": [
        {
          "output_type": "stream",
          "text": [
            "[0.90697674 0.85651214 0.99334812 0.98454746 0.84395604]\n",
            "0.9170681012180865\n"
          ],
          "name": "stdout"
        }
      ]
    },
    {
      "cell_type": "markdown",
      "metadata": {
        "id": "tpXbSrwy_GoQ"
      },
      "source": [
        "### Обучение struct"
      ]
    },
    {
      "cell_type": "code",
      "metadata": {
        "id": "SKjr3-n4_GoQ"
      },
      "source": [
        "X = actual_data_preproc['Документ'].values\n",
        "Y = classes_struct"
      ],
      "execution_count": null,
      "outputs": []
    },
    {
      "cell_type": "code",
      "metadata": {
        "id": "NlSyjNUn_GoQ"
      },
      "source": [
        "pipe = OneVsRestClassifier(LGBMClassifier())\n",
        "\n",
        "model_struct = BayesSearchCV(\n",
        "  pipe,\n",
        "  {\n",
        "      'estimator__Bosting_type': Categorical(['gbdt', 'dart', 'goss']),\n",
        "      'estimator__num_leaves': Integer(21, 51),\n",
        "      'estimator__max_depth': Integer(2, 10),\n",
        "      'estimator__learning_rate': Real(1e-03, 1e-01, prior = 'log-uniform'),\n",
        "      'estimator__class_weight': Categorical([None, 'balanced']),\n",
        "      'estimator__reg_alpha': Real(1e-05, 2, prior = 'log-uniform'),\n",
        "      'estimator__reg_lambda': Real(1e-05, 2, prior = 'log-uniform'),\n",
        "      'estimator__min_split_gain ': Real(0, 1),\n",
        "      'estimator__min_child_weight': Real(1e-05, 1e-01),\n",
        "      'estimator__min_child_samples ': Integer(5, 30)\n",
        "  },\n",
        "  optimizer_kwargs = None,\n",
        "  n_iter=25,\n",
        "  scoring = 'f1_micro',\n",
        "  cv = 5\n",
        ")"
      ],
      "execution_count": null,
      "outputs": []
    },
    {
      "cell_type": "code",
      "metadata": {
        "id": "p2h1iwcI_GoQ"
      },
      "source": [
        "model_struct.fit(vectorizer.transform(X), Y)"
      ],
      "execution_count": null,
      "outputs": []
    },
    {
      "cell_type": "code",
      "metadata": {
        "colab": {
          "base_uri": "https://localhost:8080/"
        },
        "id": "qsv18r2X_GoQ",
        "outputId": "0ffdc9bc-99e3-4c0b-89f6-6b79a4436e52"
      },
      "source": [
        "print(\"val. score: %s\" % model_struct.best_score_)\n",
        "print(\"best parameters: %s\" % str(model_struct.best_params_))"
      ],
      "execution_count": null,
      "outputs": [
        {
          "output_type": "stream",
          "text": [
            "val. score: 0.8919920623677218\n",
            "best parameters: OrderedDict([('estimator__Bosting_type', 'gbdt'), ('estimator__class_weight', None), ('estimator__learning_rate', 0.07347761922915837), ('estimator__max_depth', 6), ('estimator__min_child_samples ', 29), ('estimator__min_child_weight', 0.009009810941141035), ('estimator__min_split_gain ', 0.3246035834206646), ('estimator__num_leaves', 46), ('estimator__reg_alpha', 0.008784182627432172), ('estimator__reg_lambda', 0.03449797384143123)])\n"
          ],
          "name": "stdout"
        }
      ]
    },
    {
      "cell_type": "code",
      "metadata": {
        "id": "KCP-FyH0_GoR"
      },
      "source": [
        "clf = OneVsRestClassifier(LGBMClassifier())\n",
        "cv_res = cross_val_score(clf, vectorizer.transform(X), Y, cv = 5, scoring = 'f1_micro')"
      ],
      "execution_count": null,
      "outputs": []
    },
    {
      "cell_type": "code",
      "metadata": {
        "colab": {
          "base_uri": "https://localhost:8080/"
        },
        "id": "SsJEsBUa_GoR",
        "outputId": "77cf262c-f8b3-440a-df9d-ff0a328da36e"
      },
      "source": [
        "print(cv_res)\n",
        "print(cv_res.mean())"
      ],
      "execution_count": null,
      "outputs": [
        {
          "output_type": "stream",
          "text": [
            "[0.85943775 0.8782936  0.94570136 0.92290249 0.83939039]\n",
            "0.8891451181349561\n"
          ],
          "name": "stdout"
        }
      ]
    },
    {
      "cell_type": "markdown",
      "metadata": {
        "id": "RlLmBegx6JF6"
      },
      "source": [
        "## Предикт"
      ]
    },
    {
      "cell_type": "code",
      "metadata": {
        "colab": {
          "base_uri": "https://localhost:8080/"
        },
        "id": "sDCrmGNkILw0",
        "outputId": "9cbb1975-96bc-4cc8-eea3-3ff07b9c1eee"
      },
      "source": [
        "from preprocessing import preprocess"
      ],
      "execution_count": null,
      "outputs": [
        {
          "output_type": "stream",
          "text": [
            "[nltk_data] Downloading package stopwords to /root/nltk_data...\n",
            "[nltk_data]   Package stopwords is already up-to-date!\n"
          ],
          "name": "stdout"
        }
      ]
    },
    {
      "cell_type": "code",
      "metadata": {
        "id": "dg_gdb_U6LzD"
      },
      "source": [
        "texts,word_freq = preprocess(test['Документ'])"
      ],
      "execution_count": null,
      "outputs": []
    },
    {
      "cell_type": "code",
      "metadata": {
        "id": "QcuNRldnJekg"
      },
      "source": [
        "test_preproc = test.copy()"
      ],
      "execution_count": null,
      "outputs": []
    },
    {
      "cell_type": "code",
      "metadata": {
        "id": "9rcIyfaAJ4CU"
      },
      "source": [
        "test_preproc['Документ'] = texts"
      ],
      "execution_count": null,
      "outputs": []
    },
    {
      "cell_type": "code",
      "metadata": {
        "id": "B_lHu5oSM9FB"
      },
      "source": [
        "test_preproc.loc[1174, 'Doc'] = ['']\n",
        "test_preproc.loc[1535, 'Doc'] = ['']"
      ],
      "execution_count": null,
      "outputs": []
    },
    {
      "cell_type": "code",
      "metadata": {
        "colab": {
          "base_uri": "https://localhost:8080/"
        },
        "id": "LDO3VrdrME6L",
        "outputId": "81a7644b-a95e-4127-a182-e967fbe42761"
      },
      "source": [
        "for i in range(len(test_preproc)):\n",
        "  test_preproc.loc[i, 'Doc'] = ' '.join(test_preproc.loc[i, 'Doc'])"
      ],
      "execution_count": null,
      "outputs": [
        {
          "output_type": "stream",
          "text": [
            "/usr/local/lib/python3.7/dist-packages/ipykernel_launcher.py:2: SettingWithCopyWarning: \n",
            "A value is trying to be set on a copy of a slice from a DataFrame\n",
            "\n",
            "See the caveats in the documentation: https://pandas.pydata.org/pandas-docs/stable/user_guide/indexing.html#returning-a-view-versus-a-copy\n",
            "  \n"
          ],
          "name": "stderr"
        }
      ]
    },
    {
      "cell_type": "code",
      "metadata": {
        "id": "_vmI5VB5Nc-Z"
      },
      "source": [
        "submission = {}\n",
        "submission = pd.DataFrame(submission)"
      ],
      "execution_count": null,
      "outputs": []
    },
    {
      "cell_type": "code",
      "metadata": {
        "id": "lxYMLYONN1KI"
      },
      "source": [
        "X = vectorizer.transform(test_preproc['Doc'].values)"
      ],
      "execution_count": null,
      "outputs": []
    },
    {
      "cell_type": "code",
      "metadata": {
        "id": "tSvi-Bp4OqDA"
      },
      "source": [
        "submission['id'] = test_preproc['id']\n",
        "submission['file_id'] = test_preproc['file_id']"
      ],
      "execution_count": null,
      "outputs": []
    },
    {
      "cell_type": "code",
      "metadata": {
        "id": "xzgHNihBONPV"
      },
      "source": [
        "preds = model_obj.predict(X)\n",
        "submission['0'] = one_hot_decoder(preds, classes['0'])"
      ],
      "execution_count": null,
      "outputs": []
    },
    {
      "cell_type": "code",
      "metadata": {
        "id": "CZMQ1g8sOR5x"
      },
      "source": [
        "preds = model_func.predict(X)\n",
        "submission['1'] = one_hot_decoder(preds, classes['1'])"
      ],
      "execution_count": null,
      "outputs": []
    },
    {
      "cell_type": "code",
      "metadata": {
        "id": "nLPLcogwOTJw"
      },
      "source": [
        "preds = model_proc.predict(X)\n",
        "submission['2'] = one_hot_decoder(preds, classes['2'])"
      ],
      "execution_count": null,
      "outputs": []
    },
    {
      "cell_type": "code",
      "metadata": {
        "id": "MBF--ZX9OUQA"
      },
      "source": [
        "preds = model_lim.predict(X)\n",
        "submission['3'] = one_hot_decoder(preds, classes['3'])"
      ],
      "execution_count": null,
      "outputs": []
    },
    {
      "cell_type": "code",
      "metadata": {
        "id": "JICU-t1KOVTl"
      },
      "source": [
        "preds = model_struct.predict(X)\n",
        "submission['4'] = one_hot_decoder(preds, classes['4'])"
      ],
      "execution_count": null,
      "outputs": []
    },
    {
      "cell_type": "code",
      "metadata": {
        "id": "xaE-BwpeO0Kh"
      },
      "source": [
        "submission = submission.replace('','Не опознано')"
      ],
      "execution_count": null,
      "outputs": []
    },
    {
      "cell_type": "code",
      "metadata": {
        "id": "iMbefpurPA0x"
      },
      "source": [
        "submission"
      ],
      "execution_count": null,
      "outputs": []
    },
    {
      "cell_type": "code",
      "metadata": {
        "id": "v6vMC_LJQHWb"
      },
      "source": [
        "submission.to_csv('submission.csv', encoding='utf-8-sig', sep=',', index=False)"
      ],
      "execution_count": null,
      "outputs": []
    }
  ]
}